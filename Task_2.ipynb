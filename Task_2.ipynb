{
 "cells": [
  {
   "cell_type": "markdown",
   "source": [
    "## Task 2\n",
    "### In this task you will work with data collected from our wheeled robot , check How_data_collected_for_Task_2.ipynb for more info.\n",
    "### You have 7 txt files (0.txt to 6.txt) each represent a step\n",
    "### build a map of the robot at each step independently using the code provided in Task 1 ( taken from http://ais.informatik.uni-freiburg.de/teaching/ss20/robotics/)"
   ],
   "metadata": {}
  },
  {
   "cell_type": "code",
   "execution_count": 83,
   "source": [
    "import numpy as np\n",
    "import matplotlib.pyplot as plt\n",
    "import math\n",
    "import cv2\n",
    "import csv\n",
    "pi = math.pi\n",
    "#arr[]=np.array()"
   ],
   "outputs": [],
   "metadata": {}
  },
  {
   "cell_type": "code",
   "execution_count": 84,
   "source": [
    "for i in range(7):### loop opens each file and prints number of measurments\n",
    "    \n",
    "    with open(str(i)+'.txt') as f:\n",
    "        line_1 = f.readline()\n",
    "        line_as_list=line_1.split('\\t')\n",
    "        arr = np.array(line_as_list)\n",
    "        print(len(arr))\n",
    "    f.close()\n",
    "##### print  "
   ],
   "outputs": [
    {
     "output_type": "stream",
     "name": "stdout",
     "text": [
      "100\n",
      "73\n",
      "107\n",
      "66\n",
      "122\n",
      "99\n",
      "56\n"
     ]
    }
   ],
   "metadata": {}
  },
  {
   "cell_type": "code",
   "execution_count": 85,
   "source": [
    "\n",
    "## oppen one file and review data in array arr\n",
    "with open(str(i)+'.txt') as f:\n",
    "    line_1 = f.readline()\n",
    "    line_as_list=line_1.split('\\t')\n",
    "    arr = np.array(line_as_list)\n",
    "    print(len(arr))\n",
    "    print(arr[0])# \n",
    "f.close()\n"
   ],
   "outputs": [
    {
     "output_type": "stream",
     "name": "stdout",
     "text": [
      "56\n",
      "(15, 280.296875, 1203.0)\n"
     ]
    }
   ],
   "metadata": {}
  },
  {
   "cell_type": "markdown",
   "source": [
    "###  What does (15, 280.296875, 1203.0) mean (check https://rplidar.readthedocs.io/en/latest/ for more info)\n",
    "#### First value (mostly 15 ) is  quality : int which is  Reflected laser pulse strength\n",
    "\n",
    "#### Second value is  angle : float which is the measurment heading angle in degree unit [0, 360)\n",
    "\n",
    "#### Third value is  distance : float Measured object distance related to the sensor’s rotation center. In millimeter unit. Set to 0 when measurment is invalid."
   ],
   "metadata": {}
  },
  {
   "cell_type": "code",
   "execution_count": 1,
   "source": [
    "## Here comes your code \n",
    "## generate occupancy gird map from each step\n",
    "\n",
    "for i in range(7):\n",
    "    with open(str(i)+'.txt') as f:\n",
    "        line_1 = f.readline()\n",
    "        readings = []\n",
    "        img = np.zeros((3000,3000),dtype=np.uint8)\n",
    "        img.fill(128)\n",
    "        line_as_list=line_1.split('\\t')\n",
    "        arr = np.array(line_as_list)\n",
    "        for element in arr:\n",
    "            element = element.replace('(','')\n",
    "            element = element.replace(')','')\n",
    "            element = element.split(',')\n",
    "            readings.append([float(element[1]), float(element[2])])\n",
    "        for reading in readings:\n",
    "            x1=1500.0\n",
    "            y1= 1500.0\n",
    "            angle = math.radians(reading[0])\n",
    "            x2 = int (x1 + math.cos(angle)*reading[1])\n",
    "            y2 = int (y1 + math.sin(-1*angle)*reading[1])\n",
    "            x1 = int(x1)\n",
    "            y1= int(y1)\n",
    "            cv2.line(img,(x1,y1),(x2,y2),(255,255,255),thickness=4)\n",
    "            cv2.circle(img,(x2,y2),4,(0,0,0),thickness=-1)\n",
    "            cv2.imwrite(str(i)+'.png', img)\n",
    "f.close()\n"
   ],
   "outputs": [],
   "metadata": {}
  },
  {
   "cell_type": "code",
   "execution_count": null,
   "source": [],
   "outputs": [],
   "metadata": {}
  },
  {
   "cell_type": "code",
   "execution_count": null,
   "source": [],
   "outputs": [],
   "metadata": {}
  },
  {
   "cell_type": "code",
   "execution_count": null,
   "source": [],
   "outputs": [],
   "metadata": {}
  },
  {
   "cell_type": "code",
   "execution_count": null,
   "source": [],
   "outputs": [],
   "metadata": {}
  },
  {
   "cell_type": "code",
   "execution_count": null,
   "source": [],
   "outputs": [],
   "metadata": {}
  },
  {
   "cell_type": "code",
   "execution_count": null,
   "source": [],
   "outputs": [],
   "metadata": {}
  },
  {
   "cell_type": "code",
   "execution_count": null,
   "source": [],
   "outputs": [],
   "metadata": {}
  }
 ],
 "metadata": {
  "kernelspec": {
   "name": "python3",
   "display_name": "Python 3.8.10 64-bit"
  },
  "language_info": {
   "codemirror_mode": {
    "name": "ipython",
    "version": 3
   },
   "file_extension": ".py",
   "mimetype": "text/x-python",
   "name": "python",
   "nbconvert_exporter": "python",
   "pygments_lexer": "ipython3",
   "version": "3.8.10"
  },
  "interpreter": {
   "hash": "916dbcbb3f70747c44a77c7bcd40155683ae19c65e1c03b4aa3499c5328201f1"
  }
 },
 "nbformat": 4,
 "nbformat_minor": 4
}