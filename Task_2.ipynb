{
 "cells": [
  {
   "cell_type": "markdown",
   "metadata": {},
   "source": [
    "## Task 2\n",
    "### In this task you will work with data collected from our wheeled robot , check How_data_collected_for_Task_2.ipynb for more info.\n",
    "### You have 7 txt files (0.txt to 6.txt) each represent a step\n",
    "### build a map of the robot at each step independently using the code provided in Task 1 ( taken from http://ais.informatik.uni-freiburg.de/teaching/ss20/robotics/)"
   ]
  },
  {
   "cell_type": "code",
   "execution_count": 83,
   "metadata": {},
   "outputs": [],
   "source": [
    "import numpy as np\n",
    "import matplotlib.pyplot as plt\n",
    "import math\n",
    "pi = math.pi\n",
    "#arr[]=np.array()"
   ]
  },
  {
   "cell_type": "code",
   "execution_count": 84,
   "metadata": {},
   "outputs": [
    {
     "name": "stdout",
     "output_type": "stream",
     "text": [
      "100\n",
      "73\n",
      "107\n",
      "66\n",
      "122\n",
      "99\n",
      "56\n"
     ]
    }
   ],
   "source": [
    "for i in range(7):### loop opens each file and prints number of measurments\n",
    "    \n",
    "    with open(str(i)+'.txt') as f:\n",
    "        line_1 = f.readline()\n",
    "        line_as_list=line_1.split('\\t')\n",
    "        arr = np.array(line_as_list)\n",
    "        print(len(arr))\n",
    "    f.close()\n",
    "##### print  "
   ]
  },
  {
   "cell_type": "code",
   "execution_count": 85,
   "metadata": {},
   "outputs": [
    {
     "name": "stdout",
     "output_type": "stream",
     "text": [
      "56\n",
      "(15, 280.296875, 1203.0)\n"
     ]
    }
   ],
   "source": [
    "\n",
    "## oppen one file and review data in array arr\n",
    "with open(str(i)+'.txt') as f:\n",
    "    line_1 = f.readline()\n",
    "    line_as_list=line_1.split('\\t')\n",
    "    arr = np.array(line_as_list)\n",
    "    print(len(arr))\n",
    "    print(arr[0])# \n",
    "f.close()\n"
   ]
  },
  {
   "cell_type": "markdown",
   "metadata": {},
   "source": [
    "###  What does (15, 280.296875, 1203.0) mean (check https://rplidar.readthedocs.io/en/latest/ for more info)\n",
    "#### First value (mostly 15 ) is  quality : int which is  Reflected laser pulse strength\n",
    "\n",
    "#### Second value is  angle : float which is the measurment heading angle in degree unit [0, 360)\n",
    "\n",
    "#### Third value is  distance : float Measured object distance related to the sensor’s rotation center. In millimeter unit. Set to 0 when measurment is invalid."
   ]
  },
  {
   "cell_type": "code",
   "execution_count": null,
   "metadata": {},
   "outputs": [],
   "source": [
    "## Here comes your code \n",
    "## generate occupancy gird map from each step"
   ]
  },
  {
   "cell_type": "code",
   "execution_count": 24,
   "metadata": {},
   "outputs": [],
   "source": []
  },
  {
   "cell_type": "code",
   "execution_count": null,
   "metadata": {},
   "outputs": [],
   "source": []
  },
  {
   "cell_type": "code",
   "execution_count": null,
   "metadata": {},
   "outputs": [],
   "source": []
  },
  {
   "cell_type": "code",
   "execution_count": null,
   "metadata": {},
   "outputs": [],
   "source": []
  },
  {
   "cell_type": "code",
   "execution_count": null,
   "metadata": {},
   "outputs": [],
   "source": []
  },
  {
   "cell_type": "code",
   "execution_count": null,
   "metadata": {},
   "outputs": [],
   "source": []
  },
  {
   "cell_type": "code",
   "execution_count": null,
   "metadata": {},
   "outputs": [],
   "source": []
  }
 ],
 "metadata": {
  "kernelspec": {
   "display_name": "Python 3",
   "language": "python",
   "name": "python3"
  },
  "language_info": {
   "codemirror_mode": {
    "name": "ipython",
    "version": 3
   },
   "file_extension": ".py",
   "mimetype": "text/x-python",
   "name": "python",
   "nbconvert_exporter": "python",
   "pygments_lexer": "ipython3",
   "version": "3.6.9"
  }
 },
 "nbformat": 4,
 "nbformat_minor": 4
}
