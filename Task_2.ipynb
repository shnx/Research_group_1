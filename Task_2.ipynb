{
 "cells": [
  {
   "cell_type": "markdown",
   "metadata": {},
   "source": [
    "## Task 2\n",
    "### In this task you will work with data collected from our wheeled robot , check How_data_collected_for_Task_2.ipynb for more info.\n",
    "### You have 7 txt files (0.txt to 6.txt) each represent a step\n",
    "### build a map of the robot at each step independently using the code provided in Task 1 ( taken from http://ais.informatik.uni-freiburg.de/teaching/ss20/robotics/)"
   ]
  },
  {
   "cell_type": "code",
   "execution_count": 83,
   "metadata": {},
   "outputs": [],
   "source": [
    "import numpy as np\n",
    "import matplotlib.pyplot as plt\n",
    "import math\n",
    "pi = math.pi\n",
    "#arr[]=np.array()"
   ]
  },
  {
   "cell_type": "code",
   "execution_count": 84,
   "metadata": {},
   "outputs": [
    {
     "name": "stdout",
     "output_type": "stream",
     "text": [
      "100\n",
      "73\n",
      "107\n",
      "66\n",
      "122\n",
      "99\n",
      "56\n"
     ]
    }
   ],
   "source": [
    "for i in range(7):### loop opens each file and prints number of measurments\n",
    "    \n",
    "    with open(str(i)+'.txt') as f:\n",
    "        line_1 = f.readline()\n",
    "        line_as_list=line_1.split('\\t')\n",
    "        arr = np.array(line_as_list)\n",
    "        print(len(arr))\n",
    "    f.close()\n",
    "##### print  "
   ]
  },
  {
   "cell_type": "code",
   "execution_count": 85,
   "metadata": {},
   "outputs": [
    {
     "name": "stdout",
     "output_type": "stream",
     "text": [
      "56\n",
      "(15, 280.296875, 1203.0)\n"
     ]
    }
   ],
   "source": [
    "\n",
    "## oppen one file and review data in array arr\n",
    "with open(str(i)+'.txt') as f:\n",
    "    line_1 = f.readline()\n",
    "    line_as_list=line_1.split('\\t')\n",
    "    arr = np.array(line_as_list)\n",
    "    print(len(arr))\n",
    "    print(arr[0])# \n",
    "f.close()\n"
   ]
  },
  {
   "cell_type": "markdown",
   "metadata": {},
   "source": [
    "###  What does (15, 280.296875, 1203.0) mean (check \n",
    "#### First value (mostly 15 ) is  quality : int which is  Reflected laser pulse strength\n",
    "\n",
    "#### Second value is  angle : float\n",
    "\n",
    "#### The measurment heading angle in degree unit [0, 360)\n",
    "\n",
    "#### Third value is  distance : float\n",
    "\n",
    "#### Measured object distance related to the sensor’s rotation center. In millimeter unit. Set to 0 when measurment is invalid."
   ]
  },
  {
   "cell_type": "code",
   "execution_count": null,
   "metadata": {},
   "outputs": [],
   "source": [
    "## Here comes your code \n",
    "## plot each "
   ]
  },
  {
   "cell_type": "code",
   "execution_count": 24,
   "metadata": {},
   "outputs": [],
   "source": []
  },
  {
   "cell_type": "code",
   "execution_count": 31,
   "metadata": {},
   "outputs": [
    {
     "name": "stdout",
     "output_type": "stream",
     "text": [
      "['(15, 167.8125, 1295.25)\\t(15, 89.484375, 489.75)\\t(15, 91.625, 513.5)\\t(15, 93.859375, 542.5)\\t(15, 96.265625, 575.25)\\t(15, 98.34375, 613.5)\\t(15, 100.671875, 655.75)\\t(15, 102.78125, 709.75)\\t(15, 104.984375, 771.5)\\t(15, 111.734375, 1048.25)\\t(15, 114.109375, 1024.25)\\t(15, 116.578125, 1008.5)\\t(15, 119.0, 983.25)\\t(15, 123.6875, 1056.25)\\t(15, 125.984375, 1118.25)\\t(15, 128.328125, 1077.5)\\t(15, 130.84375, 990.25)\\t(15, 133.1875, 972.25)\\t(15, 135.5625, 980.0)\\t(15, 138.0, 1006.5)\\t(15, 140.25, 1071.25)\\t(15, 142.578125, 1138.75)\\t(15, 144.875, 1162.5)\\t(15, 147.46875, 1020.5)\\t(15, 149.578125, 1190.5)\\t(15, 151.984375, 1209.5)\\t(15, 154.3125, 1229.5)\\t(15, 156.890625, 1253.75)\\t(15, 159.1875, 1283.0)\\t(15, 161.609375, 1319.0)\\t(15, 163.96875, 1360.0)\\t(15, 166.375, 1339.0)\\t(15, 168.796875, 1266.75)\\t(15, 171.25, 1202.25)\\t(15, 173.71875, 1151.75)\\t(15, 176.21875, 1039.5)\\t(15, 178.390625, 1244.0)\\t(15, 180.46875, 1306.5)\\t(15, 182.84375, 1385.25)\\t(15, 185.171875, 1463.5)\\t(15, 187.578125, 1401.25)\\t(15, 189.828125, 1605.5)\\t(15, 192.234375, 1546.5)\\t(15, 194.578125, 1536.5)\\t(15, 196.984375, 1518.25)\\t(15, 199.359375, 1491.0)\\t(15, 201.71875, 1468.25)\\t(15, 204.265625, 1447.25)\\t(15, 206.625, 1432.25)\\t(15, 209.078125, 1419.5)\\t(15, 211.40625, 1406.75)\\t(15, 213.84375, 1400.5)\\t(15, 216.1875, 1397.0)\\t(15, 218.640625, 1395.5)\\t(15, 221.03125, 1394.0)\\t(15, 223.40625, 1397.0)\\t(15, 225.765625, 1401.25)\\t(15, 228.0625, 1407.0)\\t(15, 230.390625, 1416.0)\\t(15, 232.859375, 1348.0)\\t(15, 235.203125, 1439.5)\\t(15, 237.53125, 1464.0)\\t(15, 239.921875, 1482.0)\\t(15, 249.359375, 1608.25)\\t(15, 251.78125, 1469.0)\\t(15, 254.125, 1577.5)\\t(15, 256.734375, 1290.5)\\t(15, 258.921875, 1414.25)\\t(15, 261.09375, 1799.0)\\t(15, 263.484375, 1878.5)\\t(15, 265.8125, 2009.5)\\t(15, 268.15625, 2005.25)\\t(15, 272.96875, 1879.25)\\t(15, 275.46875, 1765.25)\\t(15, 277.859375, 1747.25)\\t(15, 280.0625, 2284.0)\\t(15, 282.5, 2042.5)\\t(15, 284.875, 2197.75)\\t(15, 287.59375, 1460.25)\\t(15, 290.0, 1450.75)\\t(15, 292.078125, 1990.75)\\t(15, 294.90625, 1246.25)\\t(15, 297.265625, 1253.0)\\t(9, 306.40625, 1586.25)\\t(15, 310.8125, 2569.0)\\t(15, 313.328125, 1953.0)\\t(15, 315.78125, 1798.25)\\t(15, 318.140625, 1784.25)\\t(15, 320.546875, 1805.0)\\t(15, 323.4375, 1267.75)\\t(15, 325.828125, 1254.75)\\t(15, 328.21875, 1274.0)\\t(15, 330.9375, 1044.25)\\t(15, 333.5, 933.0)\\t(10, 336.359375, 722.25)\\t(15, 338.921875, 656.75)\\t(15, 341.46875, 606.0)\\t(15, 343.984375, 562.75)\\t(15, 346.546875, 528.5)\\t(15, 349.234375, 497.75)\\n']\n",
      "1\n"
     ]
    }
   ],
   "source": [
    "text_file = open(\"0.txt\", \"r\")\n",
    "lines = text_file.readlines()\n",
    "print (lines)\n",
    "print (len(lines))\n",
    "text_file.close()"
   ]
  },
  {
   "cell_type": "code",
   "execution_count": 36,
   "metadata": {},
   "outputs": [
    {
     "data": {
      "text/plain": [
       "['(15, 167.8125, 1295.25)\\t(15, 89.484375, 489.75)\\t(15, 91.625, 513.5)\\t(15, 93.859375, 542.5)\\t(15, 96.265625, 575.25)\\t(15, 98.34375, 613.5)\\t(15, 100.671875, 655.75)\\t(15, 102.78125, 709.75)\\t(15, 104.984375, 771.5)\\t(15, 111.734375, 1048.25)\\t(15, 114.109375, 1024.25)\\t(15, 116.578125, 1008.5)\\t(15, 119.0, 983.25)\\t(15, 123.6875, 1056.25)\\t(15, 125.984375, 1118.25)\\t(15, 128.328125, 1077.5)\\t(15, 130.84375, 990.25)\\t(15, 133.1875, 972.25)\\t(15, 135.5625, 980.0)\\t(15, 138.0, 1006.5)\\t(15, 140.25, 1071.25)\\t(15, 142.578125, 1138.75)\\t(15, 144.875, 1162.5)\\t(15, 147.46875, 1020.5)\\t(15, 149.578125, 1190.5)\\t(15, 151.984375, 1209.5)\\t(15, 154.3125, 1229.5)\\t(15, 156.890625, 1253.75)\\t(15, 159.1875, 1283.0)\\t(15, 161.609375, 1319.0)\\t(15, 163.96875, 1360.0)\\t(15, 166.375, 1339.0)\\t(15, 168.796875, 1266.75)\\t(15, 171.25, 1202.25)\\t(15, 173.71875, 1151.75)\\t(15, 176.21875, 1039.5)\\t(15, 178.390625, 1244.0)\\t(15, 180.46875, 1306.5)\\t(15, 182.84375, 1385.25)\\t(15, 185.171875, 1463.5)\\t(15, 187.578125, 1401.25)\\t(15, 189.828125, 1605.5)\\t(15, 192.234375, 1546.5)\\t(15, 194.578125, 1536.5)\\t(15, 196.984375, 1518.25)\\t(15, 199.359375, 1491.0)\\t(15, 201.71875, 1468.25)\\t(15, 204.265625, 1447.25)\\t(15, 206.625, 1432.25)\\t(15, 209.078125, 1419.5)\\t(15, 211.40625, 1406.75)\\t(15, 213.84375, 1400.5)\\t(15, 216.1875, 1397.0)\\t(15, 218.640625, 1395.5)\\t(15, 221.03125, 1394.0)\\t(15, 223.40625, 1397.0)\\t(15, 225.765625, 1401.25)\\t(15, 228.0625, 1407.0)\\t(15, 230.390625, 1416.0)\\t(15, 232.859375, 1348.0)\\t(15, 235.203125, 1439.5)\\t(15, 237.53125, 1464.0)\\t(15, 239.921875, 1482.0)\\t(15, 249.359375, 1608.25)\\t(15, 251.78125, 1469.0)\\t(15, 254.125, 1577.5)\\t(15, 256.734375, 1290.5)\\t(15, 258.921875, 1414.25)\\t(15, 261.09375, 1799.0)\\t(15, 263.484375, 1878.5)\\t(15, 265.8125, 2009.5)\\t(15, 268.15625, 2005.25)\\t(15, 272.96875, 1879.25)\\t(15, 275.46875, 1765.25)\\t(15, 277.859375, 1747.25)\\t(15, 280.0625, 2284.0)\\t(15, 282.5, 2042.5)\\t(15, 284.875, 2197.75)\\t(15, 287.59375, 1460.25)\\t(15, 290.0, 1450.75)\\t(15, 292.078125, 1990.75)\\t(15, 294.90625, 1246.25)\\t(15, 297.265625, 1253.0)\\t(9, 306.40625, 1586.25)\\t(15, 310.8125, 2569.0)\\t(15, 313.328125, 1953.0)\\t(15, 315.78125, 1798.25)\\t(15, 318.140625, 1784.25)\\t(15, 320.546875, 1805.0)\\t(15, 323.4375, 1267.75)\\t(15, 325.828125, 1254.75)\\t(15, 328.21875, 1274.0)\\t(15, 330.9375, 1044.25)\\t(15, 333.5, 933.0)\\t(10, 336.359375, 722.25)\\t(15, 338.921875, 656.75)\\t(15, 341.46875, 606.0)\\t(15, 343.984375, 562.75)\\t(15, 346.546875, 528.5)\\t(15, 349.234375, 497.75)\\n']"
      ]
     },
     "execution_count": 36,
     "metadata": {},
     "output_type": "execute_result"
    }
   ],
   "source": [
    "lines"
   ]
  },
  {
   "cell_type": "code",
   "execution_count": 1,
   "metadata": {},
   "outputs": [],
   "source": [
    "angle = np.linspace(-pi/2, pi/2, np.shape(scan)[0], endpoint='true')"
   ]
  },
  {
   "cell_type": "code",
   "execution_count": 1,
   "metadata": {},
   "outputs": [
    {
     "ename": "ValueError",
     "evalue": "could not convert string to float: '(15,'",
     "output_type": "error",
     "traceback": [
      "\u001b[0;31m\u001b[0m",
      "\u001b[0;31mValueError\u001b[0mTraceback (most recent call last)",
      "\u001b[0;32m<ipython-input-1-db10c7944a4d>\u001b[0m in \u001b[0;36m<module>\u001b[0;34m\u001b[0m\n\u001b[1;32m      4\u001b[0m \u001b[0mpi\u001b[0m \u001b[0;34m=\u001b[0m \u001b[0mmath\u001b[0m\u001b[0;34m.\u001b[0m\u001b[0mpi\u001b[0m\u001b[0;34m\u001b[0m\u001b[0;34m\u001b[0m\u001b[0m\n\u001b[1;32m      5\u001b[0m \u001b[0;31m# a) Load laserscan and plot in scanner frame\u001b[0m\u001b[0;34m\u001b[0m\u001b[0;34m\u001b[0m\u001b[0;34m\u001b[0m\u001b[0m\n\u001b[0;32m----> 6\u001b[0;31m \u001b[0mscan\u001b[0m \u001b[0;34m=\u001b[0m \u001b[0mnp\u001b[0m\u001b[0;34m.\u001b[0m\u001b[0mloadtxt\u001b[0m\u001b[0;34m(\u001b[0m\u001b[0;34m'0.txt'\u001b[0m\u001b[0;34m)\u001b[0m\u001b[0;34m\u001b[0m\u001b[0;34m\u001b[0m\u001b[0m\n\u001b[0m\u001b[1;32m      7\u001b[0m \u001b[0mangle\u001b[0m \u001b[0;34m=\u001b[0m \u001b[0mnp\u001b[0m\u001b[0;34m.\u001b[0m\u001b[0mlinspace\u001b[0m\u001b[0;34m(\u001b[0m\u001b[0;34m-\u001b[0m\u001b[0mpi\u001b[0m\u001b[0;34m/\u001b[0m\u001b[0;36m2\u001b[0m\u001b[0;34m,\u001b[0m \u001b[0mpi\u001b[0m\u001b[0;34m/\u001b[0m\u001b[0;36m2\u001b[0m\u001b[0;34m,\u001b[0m \u001b[0mnp\u001b[0m\u001b[0;34m.\u001b[0m\u001b[0mshape\u001b[0m\u001b[0;34m(\u001b[0m\u001b[0mscan\u001b[0m\u001b[0;34m)\u001b[0m\u001b[0;34m[\u001b[0m\u001b[0;36m0\u001b[0m\u001b[0;34m]\u001b[0m\u001b[0;34m,\u001b[0m \u001b[0mendpoint\u001b[0m\u001b[0;34m=\u001b[0m\u001b[0;34m'true'\u001b[0m\u001b[0;34m)\u001b[0m\u001b[0;34m\u001b[0m\u001b[0;34m\u001b[0m\u001b[0m\n\u001b[1;32m      8\u001b[0m \u001b[0mx\u001b[0m \u001b[0;34m=\u001b[0m \u001b[0mscan\u001b[0m \u001b[0;34m*\u001b[0m \u001b[0mnp\u001b[0m\u001b[0;34m.\u001b[0m\u001b[0mcos\u001b[0m\u001b[0;34m(\u001b[0m\u001b[0mangle\u001b[0m\u001b[0;34m)\u001b[0m\u001b[0;34m;\u001b[0m\u001b[0;34m\u001b[0m\u001b[0;34m\u001b[0m\u001b[0m\n",
      "\u001b[0;32m/usr/local/lib/python3.6/dist-packages/numpy/lib/npyio.py\u001b[0m in \u001b[0;36mloadtxt\u001b[0;34m(fname, dtype, comments, delimiter, converters, skiprows, usecols, unpack, ndmin, encoding, max_rows)\u001b[0m\n\u001b[1;32m   1137\u001b[0m         \u001b[0;31m# converting the data\u001b[0m\u001b[0;34m\u001b[0m\u001b[0;34m\u001b[0m\u001b[0;34m\u001b[0m\u001b[0m\n\u001b[1;32m   1138\u001b[0m         \u001b[0mX\u001b[0m \u001b[0;34m=\u001b[0m \u001b[0;32mNone\u001b[0m\u001b[0;34m\u001b[0m\u001b[0;34m\u001b[0m\u001b[0m\n\u001b[0;32m-> 1139\u001b[0;31m         \u001b[0;32mfor\u001b[0m \u001b[0mx\u001b[0m \u001b[0;32min\u001b[0m \u001b[0mread_data\u001b[0m\u001b[0;34m(\u001b[0m\u001b[0m_loadtxt_chunksize\u001b[0m\u001b[0;34m)\u001b[0m\u001b[0;34m:\u001b[0m\u001b[0;34m\u001b[0m\u001b[0;34m\u001b[0m\u001b[0m\n\u001b[0m\u001b[1;32m   1140\u001b[0m             \u001b[0;32mif\u001b[0m \u001b[0mX\u001b[0m \u001b[0;32mis\u001b[0m \u001b[0;32mNone\u001b[0m\u001b[0;34m:\u001b[0m\u001b[0;34m\u001b[0m\u001b[0;34m\u001b[0m\u001b[0m\n\u001b[1;32m   1141\u001b[0m                 \u001b[0mX\u001b[0m \u001b[0;34m=\u001b[0m \u001b[0mnp\u001b[0m\u001b[0;34m.\u001b[0m\u001b[0marray\u001b[0m\u001b[0;34m(\u001b[0m\u001b[0mx\u001b[0m\u001b[0;34m,\u001b[0m \u001b[0mdtype\u001b[0m\u001b[0;34m)\u001b[0m\u001b[0;34m\u001b[0m\u001b[0;34m\u001b[0m\u001b[0m\n",
      "\u001b[0;32m/usr/local/lib/python3.6/dist-packages/numpy/lib/npyio.py\u001b[0m in \u001b[0;36mread_data\u001b[0;34m(chunk_size)\u001b[0m\n\u001b[1;32m   1065\u001b[0m \u001b[0;34m\u001b[0m\u001b[0m\n\u001b[1;32m   1066\u001b[0m             \u001b[0;31m# Convert each value according to its column and store\u001b[0m\u001b[0;34m\u001b[0m\u001b[0;34m\u001b[0m\u001b[0;34m\u001b[0m\u001b[0m\n\u001b[0;32m-> 1067\u001b[0;31m             \u001b[0mitems\u001b[0m \u001b[0;34m=\u001b[0m \u001b[0;34m[\u001b[0m\u001b[0mconv\u001b[0m\u001b[0;34m(\u001b[0m\u001b[0mval\u001b[0m\u001b[0;34m)\u001b[0m \u001b[0;32mfor\u001b[0m \u001b[0;34m(\u001b[0m\u001b[0mconv\u001b[0m\u001b[0;34m,\u001b[0m \u001b[0mval\u001b[0m\u001b[0;34m)\u001b[0m \u001b[0;32min\u001b[0m \u001b[0mzip\u001b[0m\u001b[0;34m(\u001b[0m\u001b[0mconverters\u001b[0m\u001b[0;34m,\u001b[0m \u001b[0mvals\u001b[0m\u001b[0;34m)\u001b[0m\u001b[0;34m]\u001b[0m\u001b[0;34m\u001b[0m\u001b[0;34m\u001b[0m\u001b[0m\n\u001b[0m\u001b[1;32m   1068\u001b[0m \u001b[0;34m\u001b[0m\u001b[0m\n\u001b[1;32m   1069\u001b[0m             \u001b[0;31m# Then pack it according to the dtype's nesting\u001b[0m\u001b[0;34m\u001b[0m\u001b[0;34m\u001b[0m\u001b[0;34m\u001b[0m\u001b[0m\n",
      "\u001b[0;32m/usr/local/lib/python3.6/dist-packages/numpy/lib/npyio.py\u001b[0m in \u001b[0;36m<listcomp>\u001b[0;34m(.0)\u001b[0m\n\u001b[1;32m   1065\u001b[0m \u001b[0;34m\u001b[0m\u001b[0m\n\u001b[1;32m   1066\u001b[0m             \u001b[0;31m# Convert each value according to its column and store\u001b[0m\u001b[0;34m\u001b[0m\u001b[0;34m\u001b[0m\u001b[0;34m\u001b[0m\u001b[0m\n\u001b[0;32m-> 1067\u001b[0;31m             \u001b[0mitems\u001b[0m \u001b[0;34m=\u001b[0m \u001b[0;34m[\u001b[0m\u001b[0mconv\u001b[0m\u001b[0;34m(\u001b[0m\u001b[0mval\u001b[0m\u001b[0;34m)\u001b[0m \u001b[0;32mfor\u001b[0m \u001b[0;34m(\u001b[0m\u001b[0mconv\u001b[0m\u001b[0;34m,\u001b[0m \u001b[0mval\u001b[0m\u001b[0;34m)\u001b[0m \u001b[0;32min\u001b[0m \u001b[0mzip\u001b[0m\u001b[0;34m(\u001b[0m\u001b[0mconverters\u001b[0m\u001b[0;34m,\u001b[0m \u001b[0mvals\u001b[0m\u001b[0;34m)\u001b[0m\u001b[0;34m]\u001b[0m\u001b[0;34m\u001b[0m\u001b[0;34m\u001b[0m\u001b[0m\n\u001b[0m\u001b[1;32m   1068\u001b[0m \u001b[0;34m\u001b[0m\u001b[0m\n\u001b[1;32m   1069\u001b[0m             \u001b[0;31m# Then pack it according to the dtype's nesting\u001b[0m\u001b[0;34m\u001b[0m\u001b[0;34m\u001b[0m\u001b[0;34m\u001b[0m\u001b[0m\n",
      "\u001b[0;32m/usr/local/lib/python3.6/dist-packages/numpy/lib/npyio.py\u001b[0m in \u001b[0;36mfloatconv\u001b[0;34m(x)\u001b[0m\n\u001b[1;32m    761\u001b[0m         \u001b[0;32mif\u001b[0m \u001b[0;34m'0x'\u001b[0m \u001b[0;32min\u001b[0m \u001b[0mx\u001b[0m\u001b[0;34m:\u001b[0m\u001b[0;34m\u001b[0m\u001b[0;34m\u001b[0m\u001b[0m\n\u001b[1;32m    762\u001b[0m             \u001b[0;32mreturn\u001b[0m \u001b[0mfloat\u001b[0m\u001b[0;34m.\u001b[0m\u001b[0mfromhex\u001b[0m\u001b[0;34m(\u001b[0m\u001b[0mx\u001b[0m\u001b[0;34m)\u001b[0m\u001b[0;34m\u001b[0m\u001b[0;34m\u001b[0m\u001b[0m\n\u001b[0;32m--> 763\u001b[0;31m         \u001b[0;32mreturn\u001b[0m \u001b[0mfloat\u001b[0m\u001b[0;34m(\u001b[0m\u001b[0mx\u001b[0m\u001b[0;34m)\u001b[0m\u001b[0;34m\u001b[0m\u001b[0;34m\u001b[0m\u001b[0m\n\u001b[0m\u001b[1;32m    764\u001b[0m \u001b[0;34m\u001b[0m\u001b[0m\n\u001b[1;32m    765\u001b[0m     \u001b[0mtyp\u001b[0m \u001b[0;34m=\u001b[0m \u001b[0mdtype\u001b[0m\u001b[0;34m.\u001b[0m\u001b[0mtype\u001b[0m\u001b[0;34m\u001b[0m\u001b[0;34m\u001b[0m\u001b[0m\n",
      "\u001b[0;31mValueError\u001b[0m: could not convert string to float: '(15,'"
     ]
    }
   ],
   "source": [
    "x = scan * np.cos(angle); \n",
    "y = scan * np.sin(angle);\n",
    "plt.plot(x, y, '.k', markersize=3)\n",
    "# Set the same scale on both axes\n",
    "plt.gca().set_aspect('equal')\n",
    "plt.savefig('scan1.pdf')"
   ]
  }
 ],
 "metadata": {
  "kernelspec": {
   "display_name": "Python 3",
   "language": "python",
   "name": "python3"
  },
  "language_info": {
   "codemirror_mode": {
    "name": "ipython",
    "version": 3
   },
   "file_extension": ".py",
   "mimetype": "text/x-python",
   "name": "python",
   "nbconvert_exporter": "python",
   "pygments_lexer": "ipython3",
   "version": "3.6.9"
  }
 },
 "nbformat": 4,
 "nbformat_minor": 4
}
