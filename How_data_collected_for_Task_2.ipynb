{
 "cells": [
  {
   "cell_type": "markdown",
   "metadata": {},
   "source": [
    "# The following code was used to collect data from our wheeled robot"
   ]
  },
  {
   "cell_type": "code",
   "execution_count": 1,
   "metadata": {},
   "outputs": [
    {
     "name": "stdout",
     "output_type": "stream",
     "text": [
      "{'model': 40, 'firmware': (1, 25), 'hardware': 5, 'serialnumber': 'BBBB9AF2C1EA9FC2A2EB92F128683C00'}\n",
      "('Good', 0)\n"
     ]
    }
   ],
   "source": [
    "#!/usr/bin/env python3\n",
    "'''Records measurments to a given file. Usage example:\n",
    "$ ./record_measurments.py out.txt'''\n",
    "import sys\n",
    "from rplidar import RPLidar\n",
    "\n",
    "lidar = RPLidar('/dev/ttyUSB0')\n",
    "\n",
    "info = lidar.get_info()\n",
    "print(info)\n",
    "\n",
    "health = lidar.get_health()\n",
    "print(health)\n",
    "lidar.stop_motor()"
   ]
  },
  {
   "cell_type": "code",
   "execution_count": 50,
   "metadata": {},
   "outputs": [],
   "source": [
    "def run(path,J):\n",
    "    #'''Main function'''\n",
    "\n",
    "    outfile = open(path, 'w')\n",
    "    #lidar.clear_input()\n",
    "    i=0;\n",
    "    try:\n",
    "        print('Recording measurments... Press Crl+C to stop.')\n",
    "        for measurment in lidar.iter_scans():\n",
    "            line = '\\t'.join(str(v) for v in measurment)\n",
    "            outfile.write(line + '\\n')\n",
    "            i=i+1\n",
    "            if (i>=J):\n",
    "                break\n",
    "    except KeyboardInterrupt:\n",
    "        print('Stoping.')\n",
    "        outfile.close()\n",
    "    outfile.close()"
   ]
  },
  {
   "cell_type": "code",
   "execution_count": 51,
   "metadata": {},
   "outputs": [],
   "source": []
  },
  {
   "cell_type": "code",
   "execution_count": 65,
   "metadata": {},
   "outputs": [
    {
     "data": {
      "application/vnd.jupyter.widget-view+json": {
       "model_id": "c8b2119848ba47adbe1ce8c9c7e97dbe",
       "version_major": 2,
       "version_minor": 0
      },
      "text/plain": [
       "VBox(children=(Button(description='forward', layout=Layout(align_self='center', height='80px', width='100px'),…"
      ]
     },
     "metadata": {},
     "output_type": "display_data"
    }
   ],
   "source": [
    "\n",
    "from jetbot import Robot\n",
    "import time\n",
    "import ipywidgets.widgets as widgets\n",
    "from IPython.display import display\n",
    "#from jetcam.csi_camera import CSICamera\n",
    "#camera = CSICamera(width=224, height=224, capture_width=1080, capture_height=720, capture_fps=3)\n",
    "import matplotlib.pyplot as plt\n",
    "robot = Robot()\n",
    "steps=0\n",
    "# create buttons\n",
    "button_layout = widgets.Layout(width='100px', height='80px', align_self='center')\n",
    "stop_button = widgets.Button(description='stop', button_style='danger', layout=button_layout)\n",
    "forward_button = widgets.Button(description='forward', layout=button_layout)\n",
    "backward_button = widgets.Button(description='backward', layout=button_layout)\n",
    "left_button = widgets.Button(description='left', layout=button_layout)\n",
    "right_button = widgets.Button(description='right', layout=button_layout)\n",
    "\n",
    "# display buttons\n",
    "middle_box = widgets.HBox([left_button, stop_button, right_button], layout=widgets.Layout(align_self='center'))\n",
    "controls_box = widgets.VBox([forward_button, middle_box, backward_button])\n",
    "display(controls_box)\n",
    "\n",
    "def stop(change):\n",
    "    robot.stop()\n",
    "    #image = camera.read()\n",
    "    #imgplot = plt.imshow(image)\n",
    "    \n",
    "def step_forward(change):\n",
    "    robot.forward(0.4)\n",
    "    time.sleep(0.5)\n",
    "    robot.stop()\n",
    "    #run(str(steps)+'.txt',1)\n",
    "    #steps=steps+1\n",
    "\n",
    "def step_backward(change):\n",
    "    robot.backward(0.4)\n",
    "    time.sleep(0.5)\n",
    "    robot.stop()\n",
    "    #run(str(steps)+'.txt',1)\n",
    "    #steps=steps+1\n",
    "\n",
    "def step_left(change):\n",
    "    robot.left(0.3)\n",
    "    time.sleep(0.3)\n",
    "    robot.stop()\n",
    "    #run(str(steps)+'.txt',1)\n",
    "    #steps=steps+1\n",
    "\n",
    "def step_right(change):\n",
    "    robot.right(0.3)\n",
    "    time.sleep(0.3)\n",
    "    robot.stop()\n",
    "    #run(str(steps)+'.txt',1)\n",
    "    #steps=steps+1\n",
    "    \n",
    "# link buttons to actions\n",
    "stop_button.on_click(stop)\n",
    "forward_button.on_click(step_forward)\n",
    "backward_button.on_click(step_backward)\n",
    "left_button.on_click(step_left)\n",
    "right_button.on_click(step_right)"
   ]
  },
  {
   "cell_type": "code",
   "execution_count": 72,
   "metadata": {},
   "outputs": [
    {
     "name": "stderr",
     "output_type": "stream",
     "text": [
      "Too many bytes in the input buffer: 4095/3000. Cleaning buffer...\n"
     ]
    },
    {
     "name": "stdout",
     "output_type": "stream",
     "text": [
      "Recording measurments... Press Crl+C to stop.\n"
     ]
    }
   ],
   "source": [
    "run(str(steps)+'.txt',1)\n",
    "steps=steps+1"
   ]
  },
  {
   "cell_type": "code",
   "execution_count": null,
   "metadata": {},
   "outputs": [],
   "source": []
  }
 ],
 "metadata": {
  "kernelspec": {
   "display_name": "Python 3",
   "language": "python",
   "name": "python3"
  },
  "language_info": {
   "codemirror_mode": {
    "name": "ipython",
    "version": 3
   },
   "file_extension": ".py",
   "mimetype": "text/x-python",
   "name": "python",
   "nbconvert_exporter": "python",
   "pygments_lexer": "ipython3",
   "version": "3.6.9"
  }
 },
 "nbformat": 4,
 "nbformat_minor": 4
}
