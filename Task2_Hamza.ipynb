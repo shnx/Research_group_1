{
 "cells": [
  {
   "cell_type": "markdown",
   "metadata": {},
   "source": [
    "## Task 2\n",
    "### In this task you will work with data collected from our wheeled robot , check How_data_collected_for_Task_2.ipynb for more info.\n",
    "### You have 7 txt files (0.txt to 6.txt) each represent a step\n",
    "### build a map of the robot at each step independently using the code provided in Task 1 ( taken from http://ais.informatik.uni-freiburg.de/teaching/ss20/robotics/)"
   ]
  },
  {
   "cell_type": "markdown",
   "metadata": {},
   "source": [
    "###  What does (15, 280.296875, 1203.0) mean (check https://rplidar.readthedocs.io/en/latest/ for more info)\n",
    "#### First value (mostly 15 ) is  quality : int which is  Reflected laser pulse strength\n",
    "\n",
    "#### Second value is  angle : float which is the measurment heading angle in degree unit [0, 360)\n",
    "\n",
    "#### Third value is  distance : float Measured object distance related to the sensor’s rotation center. In millimeter unit. Set to 0 when measurment is invalid."
   ]
  },
  {
   "cell_type": "code",
   "execution_count": null,
   "metadata": {},
   "outputs": [],
   "source": [
    "import numpy as np\n",
    "import matplotlib.pyplot as plt\n",
    "def proccessData(vector):\n",
    "    result = []\n",
    "    vector = vector[1:-1]\n",
    "    vector = vector.split(\",\")\n",
    "    ang = float(vector[1][1:])\n",
    "    r = float(vector[2][1:])\n",
    "    angRad = math.radians(ang)\n",
    "    x = r*np.cos(angRad)\n",
    "    y = r*np.sin(angRad)\n",
    "    result.append(x)\n",
    "    result.append(y)\n",
    "    return result"
   ]
  },
  {
   "cell_type": "code",
   "execution_count": null,
   "metadata": {},
   "outputs": [],
   "source": [
    "def ploting(name,x,y):\n",
    "    plt.plot(x, y, '.k', markersize=3)\n",
    "    plt.gca().set_aspect('equal')\n",
    "    plt.title(name+\".txt file\")\n",
    "    plt.savefig(\"output/\"+name+'.png')\n",
    "    plt.clf()"
   ]
  },
  {
   "cell_type": "code",
   "execution_count": null,
   "metadata": {},
   "outputs": [],
   "source": [
    "for fileName in range(7):\n",
    "    finalX = []\n",
    "    finalY = []\n",
    "    with open(str(fileName)+'.txt') as f:\n",
    "        line_1 = f.readline()\n",
    "        line_as_list=line_1.split('\\t')\n",
    "        arr = np.array(line_as_list)\n",
    "        arr[-1] = arr[-1][:-2]\n",
    "        for vectorData in arr:\n",
    "            res = proccessData(vectorData)\n",
    "            finalX.append(res[0])\n",
    "            finalY.append(res[1])\n",
    "    f.close()\n",
    "    ploting(str(fileName),finalX,finalY)"
   ]
  }
 ],
 "metadata": {
  "kernelspec": {
   "display_name": "Python 3",
   "language": "python",
   "name": "python3"
  },
  "language_info": {
   "codemirror_mode": {
    "name": "ipython",
    "version": 3
   },
   "file_extension": ".py",
   "mimetype": "text/x-python",
   "name": "python",
   "nbconvert_exporter": "python",
   "pygments_lexer": "ipython3",
   "version": "3.8.8"
  }
 },
 "nbformat": 4,
 "nbformat_minor": 4
}
