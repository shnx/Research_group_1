{
 "cells": [
  {
   "cell_type": "markdown",
   "metadata": {},
   "source": [
    "# Task 1:\n",
    "### Take a look at this code from http://ais.informatik.uni-freiburg.de/teaching/ss20/robotics/\n",
    "### Study the code and try accessing the laser scan data at different steps\n",
    "### Notice that angles are in radian which is not the case in our sensor (Task 2)\n"
   ]
  },
  {
   "cell_type": "code",
   "execution_count": 1,
   "metadata": {},
   "outputs": [],
   "source": [
    "import numpy as np\n",
    "import matplotlib.pyplot as plt\n",
    "import math\n",
    "pi = math.pi"
   ]
  },
  {
   "cell_type": "code",
   "execution_count": 4,
   "metadata": {},
   "outputs": [
    {
     "data": {
      "image/png": "[encoded data removed]",
      "text/plain": [
       "<matplotlib.figure.Figure at 0x7f8901a7f0>"
      ]
     },
     "metadata": {
      "needs_background": "light"
     },
     "output_type": "display_data"
    }
   ],
   "source": [
    "# a) Load laserscan and plot in scanner frame\n",
    "scan = np.loadtxt('laserscan.dat')\n",
    "angle = np.linspace(-pi/2, pi/2, np.shape(scan)[0], endpoint='true')\n",
    "x = scan * np.cos(angle); \n",
    "y = scan * np.sin(angle);\n",
    "plt.plot(x, y, '.k', markersize=3)\n",
    "# Set the same scale on both axes\n",
    "plt.gca().set_aspect('equal')\n",
    "plt.savefig('scan1.pdf')"
   ]
  },
  {
   "cell_type": "code",
   "execution_count": 7,
   "metadata": {},
   "outputs": [
    {
     "data": {
      "image/png": "[encoded data removed]",
      "text/plain": [
       "<matplotlib.figure.Figure at 0x7f6822c978>"
      ]
     },
     "metadata": {
      "needs_background": "light"
     },
     "output_type": "display_data"
    }
   ],
   "source": [
    "# c) Transform to global frame\n",
    "# Define the transformation matrices\n",
    "T_global_robot = np.array(\n",
    "[[np.cos(pi/4), -np.sin(pi/4), 1],\n",
    "[np.sin(pi/4), np.cos(pi/4), 0.5],\n",
    "[0, 0, 1]])\n",
    "8\n",
    "T_robot_laser = np.array(\n",
    "[[np.cos(pi), -np.sin(pi), 0.2],\n",
    "[np.sin(pi), np.cos(pi), 0.0],\n",
    "[0, 0, 1]])\n",
    "# Compute the laser frame w.r.t. the global frame\n",
    "T_global_laser = np.dot(T_global_robot, T_robot_laser)\n",
    "# Apply the transformation to the scan points\n",
    "w = np.ones(len(x))\n",
    "scan_laser = np.array([x, y, w])\n",
    "scan_global = np.dot(T_global_laser, scan_laser)\n",
    "# Plot the laser points\n",
    "plt.figure()\n",
    "plt.plot(scan_global[0,:], scan_global[1,:], '.k', markersize=3)\n",
    "# Plot robot pose in blue\n",
    "plt.plot(T_global_robot[0,2], T_global_robot[1,2], '+b');\n",
    "# Plot laser pose in red\n",
    "plt.plot(T_global_laser[0,2], T_global_laser[1,2], '+r');\n",
    "# Set the same scale on both axes\n",
    "plt.gca().set_aspect('equal')\n",
    "plt.show()\n",
    "#plt.savefig(’scan2.pdf’)"
   ]
  },
  {
   "cell_type": "code",
   "execution_count": null,
   "metadata": {},
   "outputs": [],
   "source": []
  }
 ],
 "metadata": {
  "kernelspec": {
   "display_name": "Python 3",
   "language": "python",
   "name": "python3"
  },
  "language_info": {
   "codemirror_mode": {
    "name": "ipython",
    "version": 3
   },
   "file_extension": ".py",
   "mimetype": "text/x-python",
   "name": "python",
   "nbconvert_exporter": "python",
   "pygments_lexer": "ipython3",
   "version": "3.6.9"
  }
 },
 "nbformat": 4,
 "nbformat_minor": 4
}
